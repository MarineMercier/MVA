{
 "cells": [
  {
   "cell_type": "markdown",
   "metadata": {},
   "source": [
    "# TP 1 : Reminder on Markov Chains – Stochastic gradient descent\n",
    "\n",
    "\n",
    "### Exercise 1 : Box-Muller and Marsaglia-Bray algorithm\n",
    "\n",
    "**Let R a random variable with Rayleigh distribution with parameter 1 and $\\Theta$ with uniform distribution on $[0, 2\\pi]$. We also assume that R and $\\Theta$ are independent.**\n",
    "\n",
    "**$$ \\forall r \\in \\mathbb{R} \\ \\ \\ f_R(r)=rexp(-\\frac{r^2}{2}) \\mathbb{1}_{\\mathbb{R}^+}(r)$$**\n",
    "\n",
    "**1. Let X and Y such that $ X = R cos (\\theta)$ and $Y = R sin(\\theta)$. Prove that both X and Y have $\\mathcal{N}(0, 1)$ distribution and are independent.**\n",
    "   \n",
    "   Let h be a continuous and bounded function.\n",
    "   \n",
    "   $\\begin{align*}\n",
    "   \\mathbb{E}[h(X,Y)] &=    \\mathbb{E}[h(R,\\theta)]  \\\\\n",
    "   &= \\int_0^{2\\pi} \\int_{\\mathbb{R}⁺} h(R, \\theta) \\frac{r}{2\\pi} e^{-\\frac{r^2}{2}} dr d\\theta \\\\\n",
    "   &= \\iint_{\\mathbb{R}} h(R, \\theta) \\frac{1}{2\\pi} e^{-\\frac{x^2 + y^2}{2}} dx dy\\\\\n",
    "   \\end{align*}\n",
    "   $ \n",
    "   \n",
    "   The joint density is the product of densities, therefore $(X,Y) \\sim \\mathcal{N}(0,1)$ and X and Y are independant. \n",
    "   \n",
    "   \n",
    "**2. Write an algorithm for sampling independent Gaussian distribution $\\mathcal{N}(0, 1)$** \n",
    "\n",
    "   We can easily sample $\\theta \\sim \\mathcal{U}(0,2\\pi)$. \n",
    "\n",
    "   $\\begin{align*}\n",
    "   F_r(r) &= \\int_{-\\infty}^{r} f_r(r) dr \\\\\n",
    "   &= \\int_0^r re^{-\\frac{r^2}{2}} dr \\\\\n",
    "   &= [e^{-\\frac{r^2}{2}}]_0^r \\\\\n",
    "   &= 1 - e^{-\\frac{r^2}{2}} \\\\\n",
    "   \\end{align*}\n",
    "   $ \n",
    "   \n",
    "   Since $F_r(r) \\in [0,1]$, let $Z \\sim \\mathcal{U}(0,2\\pi)$. Z is also easy to compute. \n",
    "   \n",
    "   $\n",
    "   Z = F_r(r) \\iff 1-Z = e^{-\\frac{r^2}{2}}\n",
    "   \\iff 2 log(1-Z) = -r^2\n",
    "   \\iff \\sqrt{-2log(1-Z)} = r\n",
    "   $\n",
    "   \n",
    "   Since $ F_r^{-1}(\\mathcal{U}) \\sim \\mathcal{R}(1)$, we can sample R using Z. \n",
    "   Then $ X = R cos(\\theta) \\sim \\mathcal{N}(0,1)$ can be easily computed. \n",
    "   \n"
   ]
  },
  {
   "cell_type": "code",
   "execution_count": 1,
   "metadata": {},
   "outputs": [
    {
     "data": {
      "text/plain": [
       "Text(0.5, 1.0, 'Y')"
      ]
     },
     "execution_count": 1,
     "metadata": {},
     "output_type": "execute_result"
    },
    {
     "data": {
      "image/png": "[encoded data removed]",
      "text/plain": [
       "<Figure size 432x288 with 2 Axes>"
      ]
     },
     "metadata": {
      "needs_background": "light"
     },
     "output_type": "display_data"
    }
   ],
   "source": [
    "import numpy as np\n",
    "import matplotlib.pyplot as plt\n",
    "\n",
    "def Gaussian(size=100):\n",
    "    z = np.random.uniform(0,1,size=size)\n",
    "    theta = np.random.uniform(0,2 * np.pi,size=size)\n",
    "    R = np.sqrt(-2 * np.log(1-z))\n",
    "    x = R * np.cos(theta)\n",
    "    y = R * np.sin(theta)\n",
    "    return x,y\n",
    "\n",
    "x,y = Gaussian(100000)\n",
    "ax1 = plt.subplot(121)\n",
    "ax1.hist(x,bins=50,density=True)\n",
    "ax1.set_title('X')\n",
    "ax2 = plt.subplot(122)\n",
    "ax2.hist(y,bins=50,density=True)\n",
    "ax2.set_title('Y')\n"
   ]
  },
  {
   "cell_type": "markdown",
   "metadata": {},
   "source": [
    "**3. a) What is the distribution of $(V_1, V_2)$ at the end of the repeat/until loop ?** \n",
    "\n",
    "   $(V_1, V_2) \\sim \\mathcal(U)(B_1)$ with $B_1$ the unit sphere centered in (0,0) and of radius 1. \n",
    "   \n",
    "   \n",
    "\n",
    "   **b) Set $$T_1 = \\frac{V_1}{V_1^2+V_2^2}, \\ \\ \\ T_2 = \\frac{V_2}{V_1^2+V_2^2}, \\ \\ \\ R=V_1^2+V_2^2$$**\n",
    "\n",
    "   **Show that $T_1,T_2$ and R are independent, $R\\sim \\mathcal{U}([0, 1])$ and $(T_1, T_2)$ has the same distribution as $(cos(\\theta),sin(\\theta)$ with $\\theta \\sim \\mathcal{U}([0, 2\\pi])$.** \n",
    "   \n",
    "   The unit sphere's area is equal to $\\pi$.\n",
    "   \n",
    "   By using the variable change $ V_1 = \\sqrt{u} cos(\\theta)$, $ V_2 = \\sqrt{u} sin(\\theta)$ and $u = V_1^2 + V_2^2$, the Jacobian $|\\frac{\\partial (V_1,V_2)}{\\partial u \\partial \\theta}|=\\frac{1}{2}$. \n",
    "   \n",
    "   Then we have :\n",
    "   \n",
    "   $\\begin{align*}\n",
    "   \\mathbb{E}[h(T_1, T_2, V)]  &=  \\iint_{B_1} \\frac{1}{\\pi} h(\\frac{V_1}{\\sqrt{V_1^2 + V_2^2}}, \\frac{V_2}{\\sqrt{V_1^2 + V_2^2}},V_1^2 + V_2^2) dV_1 dV_2 \\\\\n",
    "   &= \\iint_{[0,2\\pi]x[0,1]} \\frac{1}{2\\pi} h( cos(\\theta), sin(\\theta), u) du d\\theta \\\\\n",
    "   \\end{align*}\n",
    "   $\n",
    "   \n",
    "   Therefore $T_1$, $T_2$ and $V$ are independant, $V \\sim  \\mathcal{U}([0,1])$ and $(T_1, T_2) \\sim (cos(\\theta), sin(\\theta))$ with $ \\theta \\sim \\mathcal{U}([0,1\\pi])$.\n",
    "   \n",
    "   \n",
    "   \n",
    "   **c) What is the distribution of the output (X,Y) ?** \n",
    "   \n",
    "   $V \\sim \\mathcal{U}([0,1])$\n",
    "   \n",
    "   Let's find the distribution of S. \n",
    "      \n",
    "   $\\begin{align*}\n",
    "   F(r) &= \\mathbb{P}(s < r)\\\\\n",
    "   &= \\mathbb{P}(- 2 log(V_1^2 + V_2^2) < r^2)\\\\\n",
    "   &= \\mathbb{P}(V_1^2 + v_2^2 > e^{-\\frac{r^2}{2}})\\\\\n",
    "   &= 1 - e^{-\\frac{r^2}{2}}\\\\\n",
    "   \\end{align*}\n",
    "   $\n",
    "   \n",
    "   Then $f_s(r) = \\frac{\\partial F(r)}{\\partial r} = re^{- \\frac{r^2}{2}}$, S follows a Rayleigh distribution with parameter 1. $X = ST_1$ and $Y=ST_2$ are generated under the same conditions as in question 1, therefore $(X,Y) \\sim \\mathcal{N}(0,1)$.\n",
    "   \n",
    "   \n",
    "   \n",
    "   **d) What is the expected number of steps in the \"while\" loop ?** \n",
    "   \n",
    "   At each step inside the while loop, the loop ends if $V_1^2 + V_2^2 <1$. The probability to get out of the loop is equal to $p=\\frac{\\pi}{4}=\\frac{\\textit{area of $B_1$}}{\\textit{area of the cube 2x2}}$.\n",
    "   \n",
    "   Let Z be the number of step done in the while loop. Z follows a geometric distribution with parameter p.\n",
    "   Then the expected number of step in the while loop is equal to $\\frac{1}{p} = \\frac{4}{\\pi}$."
   ]
  },
  {
   "cell_type": "code",
   "execution_count": 2,
   "metadata": {},
   "outputs": [
    {
     "name": "stdout",
     "output_type": "stream",
     "text": [
      "Mean number of step in the while loop with 100 iterations = 1.25\n"
     ]
    }
   ],
   "source": [
    "def MarsagliaBray():\n",
    "    u = np.random.uniform(0,1,2)\n",
    "    v = 2 * u - 1\n",
    "    nb_step = 1\n",
    "    while v.dot(v) > 1:\n",
    "        u = np.random.uniform(0,1,2)\n",
    "        v = 2 * u - 1\n",
    "        nb_step += 1\n",
    "    s = np.sqrt(- 2 * np.log(v.dot(v)))\n",
    "    x = (s * v)/np.sqrt(v.dot(v))\n",
    "    return(x, nb_step)\n",
    "\n",
    "size = 100\n",
    "sum = 0\n",
    "for i in range(size):\n",
    "    _, nb_step = MarsagliaBray()\n",
    "    sum += nb_step\n",
    "print(\"Mean number of step in the while loop with \"+str(size)+\" iterations = \" +str(sum/size))"
   ]
  },
  {
   "cell_type": "markdown",
   "metadata": {},
   "source": [
    "## Exercise 2 : Invariant Distribution \n",
    "\n",
    "**We define a Markov chain $(Xn)_{n \\leq 0}$ with values in $[0, 1]$ as follows : given the current value $X_n (n \\in N)$ of the chain,**\n",
    "\n",
    "**If $X_n =\\frac{1}{m}$ (for some positive integer m), we let :\n",
    "**$$ \\begin{cases} X_{n+1}=\\frac{1}{m+1} \\ \\ \\ \\text{with probability} \\ \\ \\ 1-X_n^2 \\\\ X_{n+1} \\sim \\mathcal{U}(0,1) \\ \\ \\ \\text{with probability} \\ \\ \\ X_n^2 \\end{cases} $$**\n",
    "\n",
    "**If not, $X_{n+1} \\sim \\mathcal{U}(0,1)$**\n",
    "\n",
    "**1. Prove that the transition kernel of the chain $(X_n)_{n\\geq0}$ is given by :**\n",
    "**$$ P(x,a)= \\begin{cases} x^2 \\int_{A \\cap [0,1]}dt +(1-x^2) \\delta_{\\frac{1}{m+1}}(A) \\ \\ \\ if \\ \\ x=\\frac{1}{m} \\\\ \\int_{A \\cap [0,1]}dt \\ \\ \\ \\text{otherwise} \\end{cases} $$**\n",
    "**where $\\delta_{\\alpha}$ is the Dirac measure at $\\alpha$.**\n",
    "\n",
    "$A \\in B([0,1])$. Let $B_i \\sim \\mathcal{B}(1-X_i^2)$.\n",
    "If $X_0=\\frac{1}{m}$:\n",
    "\n",
    "$\\begin{align*}\n",
    "P(X_0,A) &= \\mathbb{P}(X_1 \\in A | X_0 = \\frac{1}{m})\\\\\n",
    "&= \\mathbb{E}[\\mathbb{1}_{x \\in A}(X_1)|X_0=\\frac{1}{m}]\\\\\n",
    "&= \\mathbb{P}(B_0=1|X_0=\\frac{1}{m})\\mathbb{E}[\\mathbb{1}_{x \\in A}(X_1)|B_0=1,X_0=\\frac{1}{m}]+\\mathbb{P}(B_0=0|X_0=\\frac{1}{m})\\mathbb{E}[\\mathbb{1}_{x \\in A}(X_1)|B_0=0,X_0=\\frac{1}{m}]\\\\\n",
    "&= (1-X_0^2)\\mathbb{1}_{x \\in A}(\\frac{1}{m+1})+X_0^2\\int_{0}^{1} \\mathbb{1}_{x \\in A}(x) dx\\\\\n",
    "&= (1-X_0^2) \\delta_{\\frac{1}{m+1}}(A) + X_0^2 \\int_{A \\cap [0,1]}dt\\\\\n",
    "\\end{align*}\n",
    "$\n",
    "\n",
    "\n",
    "If $X_0\\neq\\frac{1}{m}$:\n",
    "\n",
    "$\\begin{align*}\n",
    "P(X_0,A) &= \\mathbb{P}(X_1 \\in A | X_0 \\neq \\frac{1}{m})\\\\\n",
    "&= \\mathbb{E}[\\mathbb{1}_{x \\in A}(X_1)|X_0 \\neq \\frac{1}{m}]\\\\\n",
    "&=\\int_{0}^{1} \\mathbb{1}_{x \\in A}(x) dx\\\\\n",
    "&= \\int_{A \\cap [0,1]}dt\n",
    "\\end{align*}\n",
    "$\n",
    "\n",
    "We have the transition kernel we wanted. \n"
   ]
  },
  {
   "cell_type": "markdown",
   "metadata": {},
   "source": [
    "**2. Prove that the uniform distribution on $[0, 1]$ is invariant for P. In the following, this invariant distribution will be denoted by $\\pi$.**\n",
    "\n",
    "We suppose that $ X_0 \\sim \\pi$. h is a continuous and bounded function. \n",
    "\n",
    "$\\begin{align*}\n",
    "\\forall m\\in \\mathbb{N},\\\\\n",
    "P\\pi(B) &= \\int_{[0,1]} P(x,B) \\pi(x) dx\\\\\n",
    "&= \\int_{[0,1]\\setminus \\frac{1}{m}} P(x,B) \\pi(x) dx\\\\\n",
    "&= \\int_{[0,1]\\setminus \\frac{1}{m}} \\int_{B \\cap [0,1]}dt \\pi(x) dx\\\\\n",
    "&= \\int_{B \\cap [0,1]}dt\\\\\n",
    "&= \\pi(B)\n",
    "\\end{align*}\n",
    "$\n",
    "\n",
    "**3. Let $x \\notin {\\frac{1}{m}, m \\in N^*}$.Compute $Pf(x)$ for a bounded measurable function $f$. Deduce $P^n f(x)$ for all $n \\geq 1$. Compute $lim_{n\\to+\\infty} P^n f(x)$ in terms of $\\int f(x) \\pi(x)dx$.**\n",
    "\n",
    "For n = 1:\n",
    "\n",
    "$\\begin{align*}\n",
    "Pf(x)&=\\int_{[0,1]}P(x,y)f(y)dy\\\\\n",
    "&=\\int_{[0,1]}f(y)\\int_{[0,1] \\cap dy}dtdy\\\\\n",
    "&=\\int_{[0,1]}f(y)dy\\\\\n",
    "&=\\int_{\\mathbb{R}}\\pi(y)f(y)dy\n",
    "\\end{align*}\n",
    "$\n",
    "\n",
    "Using recursion, we suppose that $\\exists n \\in \\mathbb{N}$ such that :\n",
    "$P^n(f(x))=\\int_{\\mathbb{R}} f(y) \\pi(y) dy$\n",
    "\n",
    "$$\\begin{aligned} \n",
    "P^{n+1}(f(x)) &= P(P^{n}(f(x))) \\\\ \n",
    "&= \\int_{\\mathbb{R}} P(x,dy) P^{n}(f(y)) \\\\ \n",
    "&= \\int_{0}^{1} P^{n}(f(y)) dy \\\\ \n",
    "&= \\int_{0}^{1} \\int_{\\mathbb{R}} f(x) \\pi(x) dx dy \\\\ \n",
    "&=\\int_{\\mathbb{R}} f(x) \\pi(x) dx \n",
    "\\end{aligned}$$\n",
    "\n",
    "Therefore, $lim_{n\\to+\\infty} P^n f(x) = \\int_{\\mathbb{R}} f(x) \\pi(x)dx$.\n"
   ]
  },
  {
   "cell_type": "markdown",
   "metadata": {},
   "source": [
    "**4. Let $x=\\frac{1}{m}$ with $m \\geq 2$**\n",
    "\n",
    "**a) Let $n \\in N^*$. Compute $P^n(x,\\frac{1}{n+m})$ in terms of m and n.**\n",
    "\n",
    "$$\\begin{align*}\n",
    "P^n(x,\\frac{1}{n+m})&=P^n(\\frac{1}{m},\\frac{1}{n+m})\\\\\n",
    "&=\\prod_{i=0}^{n-1}P(\\frac{1}{m+i},\\frac{1}{m+i+1})\\\\\n",
    "&=\\prod_{i=0}^{n-1}(1-(\\frac{1}{m+i})^2)\\\\\n",
    "&=\\prod_{i=m}^{m+n-1}(1-(\\frac{1}{i})^2)\\\\\n",
    "&=\\prod_{i=m}^{m+n-1}\\frac{i^2-1}{i^2}\\\\\n",
    "&=\\prod_{i=m}^{m+n-1}\\frac{(i-1)(i+1)}{i^2}\\\\\n",
    "&=\\frac{(m-1)(m+n)}{m(m+n-1)}\\\\\n",
    "&=\\frac{m^2-m+nm-n}{m(m+n-1)}\\\\\n",
    "&=\\frac{m(m+n-1)-n}{m(m+n-1)}\\\\\n",
    "&= 1-\\frac{n}{m(m+n-1)}\\\\\n",
    "\\end{align*}$$ \n",
    "\n",
    "\n",
    "**b) Do we have $lim_{n\\to+ \\infty} P^n(x,A)=\\pi(A)$ when $A=\\bigcup\\limits_{q \\in N} {\\frac{1}{m+1+q}}$ ?**\n",
    "\n",
    "We have $\\pi(A)=0$.\n",
    "\n",
    "$$\\begin{align*}\n",
    "P^n(x,A)&=P^n(\\frac{1}{m},A)\\\\\n",
    "&=\\sum_{q \\in \\mathbb{N}} P^n(\\frac{1}{m},\\frac{1}{m+q+1})\\\\\n",
    "&=P^n(\\frac{1}{m},\\frac{1}{m+n})\\\\\n",
    "&= 1-\\frac{n}{m(m+n-1)}\\\\\n",
    "&\\geq 1-\\frac{n}{2(n+1)}\n",
    "\\end{align*}$$ \n",
    "\n",
    "Indeed $m\\geq2$, so $\\frac{n}{m(m+n+1)}\\leq \\frac{n}{2(n+1)}$. \n",
    "\n",
    "Then $lim_{n \\to +\\infty}  1-\\frac{n}{2(n+1)}=1/2>\\pi(A)=0$.\n"
   ]
  },
  {
   "cell_type": "markdown",
   "metadata": {},
   "source": [
    "## Excercise 3 Stochastic Gradient Descent\n",
    "\n",
    "**In the exercise, we consider the problem of classifying patterns x into two classes $y = ±1$. We assume that there is a relationship between a pattern and its class, embodied by some probability distribution $P(x, y)$. If we know this distribution, we know the conditional probabilities $P(y|x)$ as well, and we can solve immediately the problem using the Bayes decision rule. Learning means “Acquiring enough knowledge about $P(x, y)$ from the examples to solve the classification problem”.**\n",
    "\n",
    "**The statistical machine learning approach begins with the collection of a sizeable set of examples $\\{(x_1, y_1), . . . , (x_n, _yn)\\}$, where for each $i \\in [1,n]$ the vector $x_i$ represents the features and the scalar $y_i$ a label indicating whether $x_i$ belongs $(y_i = 1)$ or not $(y_i = −1)$ to a particular class. With such a set of examples, one can construct a classification program, defined by a prediction function h, and measure its performance by counting how often the program prediction $h(x_i)$ differs from the correct prediction $y_i$. To avoid rote memorization, one should aim to find a prediction function that generalizes the concepts that may be learned from the examples. One way to achieve good generalized performance is to choose amongst a carefully selected class of prediction functions.**\n",
    "\n",
    "**Thanks to such a high-dimensional sparse representation of documents, it has been deemed empirically sufficient to consider prediction functions of the form $h(x;w,\\tau) = w^tx − \\tau$ . Here, $w^tx$ is a linear discriminant parameterized by $w \\in \\mathbb{R}^d$ and $\\tau \\in \\mathbb{R}$ is a bias that provides a way to compromise between precision and recall, $P[y = 1|h(x) = 1]$ and $P[h(x) = 1|y = 1]$ respectively. The accuracy of the predictions could be determined by counting the number of times that $sign(h(x;w, \\tau ))$ matches the correct label, i.e., 1 or -1. However, while such a prediction function may be appropriate for classifying new features, formulating an optimization problem around it to choose the parameters $(w; \\tau)$ is impractical in large-scale settings due to the combinatorial structure introduced by the sign function, which is discontinuous. Instead, one typically employs a continuous approximation through a loss function that measures a cost for predicting h when the true label is y.**\n",
    "\n",
    "**An Adaline (Widrow and Hoff, 1960) actually learns by (i) considering linear prediction function, $h(x,w) = w^tx$, and (ii) measuring the quality of the system through the mean squared error : $$CAdaline(w) =\\int (y − h(x,w))^2 dP(x, y) =\\int (y − w^tx)^2 dP(x, y)$$**\n",
    "\n",
    "**Learning consists of finding the parameter w that minimizes the above, or a more general, cost. This framework is the basis of classical statistical inference theory. Hundreds of practical algorithms have been derived.**\n",
    "\n",
    "**In the following, we will denote by $z = (x, y)$ the observation and consider the cost or expected risk given a parameter vector w with respect to the probability P. $$R(w) = E[J(w, z)] =\\int (y − w^tx)^2 dP(z)$$ While it may be desirable to minimize the expected loss that would be incurred from any inputoutput pair, such a goal is untenable when one does not have complete information about P. Thus, in practice, one seeks the solution of a problem that involves an estimate of the expected risk $\\mathbb{R}$. In supervised learning, one has access (either all-at-once or incrementally) to a set of $n \\in N$ independently drawn input-output samples $\\{z_i = (x_i, y_i)\\}_{i=1}^n$ and one may define the empirical risk function $R_n : \\mathbb{R}^d \\to \\mathbb{R}$ by:**\n",
    "**$$R_n(w) = \\frac{1}{n} \\sum_{i=1}^n (y_i − w^tx_i)^2$$**\n",
    "\n",
    "\n",
    "**1. Describe the stochastic gradient descent algorithm for minimizing the empirical risk and implement it in matlab or python.**\n"
   ]
  },
  {
   "cell_type": "markdown",
   "metadata": {},
   "source": [
    "The aim of the stochastic gradient descent is to minimize the empirical risk $R_n(w,z)$. With $z = (x, y)$, $J(w,z) = (y − w^tx)^2$ and $R_n(w) = \\frac{1}{n} \\sum_{i=1}^n J(w, z_i)$.\n",
    "The steps of the algorithm are the following : \n",
    "____\n",
    "\n",
    "Initialise $W_0$ with random numbers.\n",
    "\n",
    "For each iteration k:\n",
    "\n",
    "   - Sample $z_{k+1}$ in ${z_i = (x_i, y_i)}_{i=1}^n$ \n",
    "    \n",
    "   - Compute $\\bigtriangledown_W J(W_k, z_{k+1})=\\frac{\\partial J(W_k, z_{k+1})}{\\partial W_k}$\n",
    "    \n",
    "   - Update $W_{k+1} = W_k - \\alpha \\bigtriangledown_W J(W_k, z_{k+1})$ with $\\alpha$ the learning rate\n",
    "\n",
    "___\n",
    "\n",
    "Repeat until convergence. A good stop criteria is to check if $||W_{k+1}-W_k||$ is smaller than a defined threshold on a window. "
   ]
  },
  {
   "cell_type": "code",
   "execution_count": 36,
   "metadata": {},
   "outputs": [],
   "source": [
    "def stochastic_grad_descent(x,y,alpha=1,size_window=10,threshold=10e-4):\n",
    "    #initialisation \n",
    "    w = np.array(np.ones(x.shape[1]))\n",
    "    w = w / np.sqrt(w.dot(w))\n",
    "    window = [False] * size_window\n",
    "    nb_iteration = 1\n",
    "    while False in window:\n",
    "        j = np.random.randint(len(y)) - 1 #Sample\n",
    "        w_update = w + alpha * (1/nb_iteration) * 2* (y[j]- x[j,:].dot(w)) * x[j,:]  #Compute and Update \n",
    "        window.append(np.linalg.norm(w_update - w)<threshold) #Comparison with threshold\n",
    "        window.pop(0) #Update the window\n",
    "        w = w_update\n",
    "        nb_iteration +=1\n",
    "    print(\"Stochastic gradient is over after \" + str(nb_iteration-1)+ \" iterations.\")\n",
    "    return(w)"
   ]
  },
  {
   "cell_type": "markdown",
   "metadata": {},
   "source": [
    "**2. Sample a set of observations $\\{z_i\\}_{i=1}^n$ by generating a collection of random points $x_i$ of $\\mathbb{R}^2$, $w \\in \\mathbb{R}^2$ seen as the normal vector of an hyperplane, a straight line here, and assigning the label $y_i$ according to the side of the hyperplane the point $x_i$ is.**\n"
   ]
  },
  {
   "cell_type": "code",
   "execution_count": 4,
   "metadata": {},
   "outputs": [
    {
     "data": {
      "image/png": "[encoded data removed]",
      "text/plain": [
       "<Figure size 432x288 with 1 Axes>"
      ]
     },
     "metadata": {
      "needs_background": "light"
     },
     "output_type": "display_data"
    }
   ],
   "source": [
    "n = 100\n",
    "x = np.reshape(np.array(np.random.uniform(-1,1,2*n)),(n,2))\n",
    "\n",
    "w = np.array([-1,0.5])\n",
    "w = w / np.sqrt(w.dot(w))\n",
    "\n",
    "y = x @ w\n",
    "y[y>0] = 1\n",
    "y[y<0] = -1\n",
    "\n",
    "plt.figure()\n",
    "for i in range(n):\n",
    "    if y[i]==1:\n",
    "        plt.scatter(x[i,0],x[i,1],color='b')\n",
    "    else:\n",
    "        plt.scatter(x[i,0],x[i,1],color='g')\n",
    "        \n",
    "plt.plot(x[:,0],-x[:,0]*w[0]/w[1], color='r')\n",
    "plt.title(\"Set of observations\")\n",
    "plt.show()"
   ]
  },
  {
   "cell_type": "markdown",
   "metadata": {},
   "source": [
    "**3. Test the algorithm you wrote at the first question over these observations. What is the vector $w^*$ estimated ? Is it far from w ?**\n"
   ]
  },
  {
   "cell_type": "code",
   "execution_count": 5,
   "metadata": {},
   "outputs": [
    {
     "name": "stdout",
     "output_type": "stream",
     "text": [
      "Stochastic gradient is over after 639 iterations.\n",
      "The original vector =  [-0.89442719  0.4472136 ]\n",
      "Vector estimated =  [-0.93854     0.34517051]\n",
      "The error =  0.11116983290256477\n"
     ]
    }
   ],
   "source": [
    "w_estimated = stochastic_grad_descent(x,y)\n",
    "w_estimated = w_estimated / np.sqrt(w_estimated.dot(w_estimated))\n",
    "diff = np.linalg.norm(w_estimated - w)\n",
    "print(\"The original vector = \", w)\n",
    "print(\"Vector estimated = \", w_estimated)\n",
    "print(\"The error = \", diff)"
   ]
  },
  {
   "cell_type": "markdown",
   "metadata": {},
   "source": [
    "We can plot in red the points badly classified with our estimator."
   ]
  },
  {
   "cell_type": "code",
   "execution_count": 6,
   "metadata": {},
   "outputs": [
    {
     "data": {
      "image/png": "[encoded data removed]",
      "text/plain": [
       "<Figure size 432x288 with 1 Axes>"
      ]
     },
     "metadata": {
      "needs_background": "light"
     },
     "output_type": "display_data"
    }
   ],
   "source": [
    "plt.figure()\n",
    "for i in range(n):\n",
    "    if (x @ w)[i]*(x @ w_estimated)[i] < 0:\n",
    "        plt.scatter(x[i,0],x[i,1],color='r')\n",
    "    elif y[i]==1:\n",
    "        plt.scatter(x[i,0],x[i,1],color='g')\n",
    "    else:\n",
    "        plt.scatter(x[i,0],x[i,1],color='b')\n",
    "        \n",
    "plt.plot(x[:,0],-x[:,0]*w[0]/w[1], color='y', label='w')\n",
    "plt.plot(x[:,0],-x[:,0]*w_estimated [0]/w_estimated [1], color='pink', label = 'w_estimated')\n",
    "plt.title(\"Set of observations, errors in red\")\n",
    "plt.legend()\n",
    "plt.show()"
   ]
  },
  {
   "cell_type": "markdown",
   "metadata": {},
   "source": [
    "**4. Noise your observations $\\{z_i\\}_{i=1}^n$ with an additive Gaussian noise and perform the optimisation again. Compare with the result of question three.**\n"
   ]
  },
  {
   "cell_type": "code",
   "execution_count": 7,
   "metadata": {},
   "outputs": [
    {
     "name": "stdout",
     "output_type": "stream",
     "text": [
      "Stochastic gradient is over after 2118 iterations.\n",
      "The original vector =  [-0.89442719  0.4472136 ]\n",
      "Vector estimated =  [-0.98026542  0.1976859 ]\n",
      "The error =  0.2638792750749198\n"
     ]
    }
   ],
   "source": [
    "noise = np.reshape(np.array(np.random.normal(0,1,2*n)), (n,2))\n",
    "x_noisy = x + noise\n",
    "\n",
    "w_estimated = stochastic_grad_descent(x_noisy, y)\n",
    "w_estimated = w_estimated / np.sqrt(w_estimated.dot(w_estimated))\n",
    "diff = np.linalg.norm(w_estimated - w)\n",
    "print(\"The original vector = \", w)\n",
    "print(\"Vector estimated = \", w_estimated)\n",
    "print(\"The error = \", diff)"
   ]
  },
  {
   "cell_type": "code",
   "execution_count": 8,
   "metadata": {},
   "outputs": [
    {
     "data": {
      "image/png": "[encoded data removed]",
      "text/plain": [
       "<Figure size 432x288 with 1 Axes>"
      ]
     },
     "metadata": {
      "needs_background": "light"
     },
     "output_type": "display_data"
    }
   ],
   "source": [
    "plt.figure()\n",
    "for i in range(n):\n",
    "    if (x@ w)[i]*(x_noisy @ w_estimated)[i] < 0:\n",
    "        plt.scatter(x_noisy[i,0],x_noisy[i,1],color='r')\n",
    "    elif y[i]==1:\n",
    "        plt.scatter(x_noisy[i,0],x_noisy[i,1],color='g')\n",
    "    else:\n",
    "        plt.scatter(x_noisy[i,0],x_noisy[i,1],color='b')\n",
    "        \n",
    "plt.plot(x[:,0],-x[:,0]*w[0]/w[1], color='y', label='w')\n",
    "plt.plot(x[:,0],-x[:,0]*w_estimated [0]/w_estimated [1], color='pink', label = 'w_estimated')\n",
    "plt.title(\"Set of observations, errors in red\")\n",
    "plt.legend()\n",
    "plt.show()"
   ]
  },
  {
   "cell_type": "markdown",
   "metadata": {},
   "source": [
    "The performance of the algorithm decreases sharply if the data are noisy. The distance between the estimated vector and the genuine vector is larger, convergence slower. Naturally, more points are misclassified."
   ]
  },
  {
   "cell_type": "markdown",
   "metadata": {},
   "source": [
    "**5. Test the algorithm on the Breast Cancer Wisconsin (Diagnostic) Data Set: http://archive.ics.uci.edu/ml/datasets/Breast+Cancer+Wisconsin+%28Diagnostic%29 .**\n"
   ]
  },
  {
   "cell_type": "code",
   "execution_count": 29,
   "metadata": {},
   "outputs": [],
   "source": [
    "import pandas as pd\n",
    "import sklearn \n",
    "from sklearn.preprocessing import Normalizer \n",
    "from sklearn.model_selection import train_test_split\n",
    "\n",
    "# Get the file\n",
    "data = pd.read_csv('breast-cancer-wisconsin.data',na_values='?')\n",
    "data.columns = [\"id\"]+list([\"x%d\" %i for i in range(1,10)])+list(\"y\")\n",
    "data.index = data.iloc[:,0]\n",
    "data = data.iloc[:,1:]\n",
    "data.dropna(inplace=True)\n",
    "\n",
    "# Get data X, Y\n",
    "x_cancer = data[[\"x%d\" %i for i in range(1,10)]]\n",
    "y_cancer = np.where(data[\"y\"]==2,-1,1)\n",
    "\n",
    "#Split Train, Test\n",
    "x_cancer_train, x_cancer_test, y_cancer_train, y_cancer_test = train_test_split(x_cancer,y_cancer,random_state=5)\n",
    "\n",
    "#Normalize\n",
    "scaler = Normalizer().fit(x_cancer_train)\n",
    "x_cancer_train_norm = scaler.transform(x_cancer_train)\n",
    "x_cancer_test_norm = scaler.transform(x_cancer_test)"
   ]
  },
  {
   "cell_type": "code",
   "execution_count": 43,
   "metadata": {},
   "outputs": [
    {
     "name": "stdout",
     "output_type": "stream",
     "text": [
      "Stochastic gradient is over after 15742 iterations.\n",
      "The confusion matrix is [[0.63157895 0.03508772]\n",
      " [0.09356725 0.23976608]]\n",
      "The accuracy is equal to  0.871345029239766\n"
     ]
    }
   ],
   "source": [
    "#Estimate W\n",
    "w_estimated = stochastic_grad_descent(x_cancer_train_norm, y_cancer_train,size_window=15,threshold=10e-5)\n",
    "w_estimated = w_estimated / np.sqrt(w_estimated.dot(w_estimated))\n",
    "\n",
    "#Confusion matrix\n",
    "y_pred = np.where(x_cancer_test_norm.dot(w_estimated)>0,1,-1)\n",
    "confusion_matrix = sklearn.metrics.confusion_matrix(y_cancer_test, y_pred)/len(y_pred)\n",
    "print(\"The confusion matrix is\", confusion_matrix)\n",
    "print(\"The accuracy is equal to \", confusion_matrix[0,0] + confusion_matrix[1,1])"
   ]
  },
  {
   "cell_type": "markdown",
   "metadata": {},
   "source": [
    "The algorithm performs pretty well on the dataset."
   ]
  },
  {
   "cell_type": "code",
   "execution_count": null,
   "metadata": {},
   "outputs": [],
   "source": []
  }
 ],
 "metadata": {
  "kernelspec": {
   "display_name": "Python 3",
   "language": "python",
   "name": "python3"
  },
  "language_info": {
   "codemirror_mode": {
    "name": "ipython",
    "version": 3
   },
   "file_extension": ".py",
   "mimetype": "text/x-python",
   "name": "python",
   "nbconvert_exporter": "python",
   "pygments_lexer": "ipython3",
   "version": "3.8.10"
  }
 },
 "nbformat": 4,
 "nbformat_minor": 4
}
