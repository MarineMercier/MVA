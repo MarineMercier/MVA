{
  "nbformat": 4,
  "nbformat_minor": 0,
  "metadata": {
    "colab": {
      "name": "Altegrad_2021_Lab2_NMT_Handout_Mercier_Marine.ipynb",
      "provenance": [],
      "collapsed_sections": [
        "PgkVw6lVUIT3",
        "pf0rN4RPToom"
      ]
    },
    "kernelspec": {
      "name": "python3",
      "display_name": "Python 3"
    },
    "language_info": {
      "name": "python"
    },
    "accelerator": "GPU"
  },
  "cells": [
    {
      "cell_type": "markdown",
      "metadata": {
        "id": "lCJvlnvsKALE"
      },
      "source": [
        "<center><h2>ALTeGraD 2021<br>Lab Session 2: NMT</h2><h3> Neural Machine Translation</h3> 16 / 11 / 2021<br> M. Kamal Eddine, H. Abdine</center>"
      ]
    },
    {
      "cell_type": "code",
      "metadata": {
        "id": "DB6pvLvlKbtD"
      },
      "source": [
        "import torch\n",
        "import torch.nn as nn\n",
        "import torch.optim as optim\n",
        "from torch.utils import data\n",
        "from torch.nn.utils.rnn import pad_sequence\n",
        "from tqdm import tqdm\n",
        "from nltk import word_tokenize"
      ],
      "execution_count": 1,
      "outputs": []
    },
    {
      "cell_type": "markdown",
      "metadata": {
        "id": "wqIFlSfYTwk8"
      },
      "source": [
        "## Define the Encoder / Task 1"
      ]
    },
    {
      "cell_type": "code",
      "metadata": {
        "id": "Kc8cQTFkKmif"
      },
      "source": [
        "class Encoder(nn.Module):\n",
        "    '''\n",
        "    to be passed the entire source sequence at once\n",
        "    we use padding_idx in nn.Embedding so that the padding vector does not take gradient (always zero)\n",
        "    https://pytorch.org/docs/stable/nn.html#gru\n",
        "    '''\n",
        "    def __init__(self, vocab_size, embedding_dim, hidden_dim, padding_idx):\n",
        "        super(Encoder, self).__init__()\n",
        "        self.embedding = nn.Embedding(vocab_size, embedding_dim, padding_idx)\n",
        "        self.rnn = nn.GRU(embedding_dim, hidden_dim)\n",
        "    \n",
        "    def forward(self, input):\n",
        "        # fill the gaps # (transform input into embeddings and pass embeddings to RNN)\n",
        "        # you should return a tensor of shape (seq, batch, feat)\n",
        "        hs, h_n = self.rnn(self.embedding(input))\n",
        "        return hs"
      ],
      "execution_count": 2,
      "outputs": []
    },
    {
      "cell_type": "markdown",
      "metadata": {
        "id": "FNnGEa5cT9ka"
      },
      "source": [
        "## Define the Decoder layer / Task 2"
      ]
    },
    {
      "cell_type": "code",
      "metadata": {
        "id": "h7tLaq4PK90q"
      },
      "source": [
        "# import torch.nn.functionnal as F\n",
        "class Decoder(nn.Module):\n",
        "    '''to be used one timestep at a time\n",
        "       see https://pytorch.org/docs/stable/nn.html#gru'''\n",
        "    def __init__(self, vocab_size, embedding_dim, hidden_dim_s, hidden_dim, padding_idx):\n",
        "        super(Decoder, self).__init__()\n",
        "        self.embedding = nn.Embedding(vocab_size, embedding_dim, padding_idx)\n",
        "        self.rnn = nn.GRU(embedding_dim, hidden_dim)\n",
        "        self.ff_concat = nn.Linear(hidden_dim_s+hidden_dim, hidden_dim)\n",
        "        self.predict = nn.Linear(hidden_dim, vocab_size)\n",
        "    \n",
        "    def forward(self, input, source_context, h):\n",
        "        # fill the gaps #\n",
        "        # transform input into embeddings, pass embeddings to RNN, concatenate with source_context and apply tanh, and make the prediction\n",
        "        # prediction should be of shape (1, batch, vocab), h and tilde_h of shape (1, batch, feat)\n",
        "        hs, h = self.rnn(self.embedding(input), h)\n",
        "        tilde_h = torch.tanh( self.ff_concat(torch.cat([source_context, h], dim=-1)) )\n",
        "        prediction =  self.predict(tilde_h)\n",
        "        return prediction, h"
      ],
      "execution_count": 58,
      "outputs": []
    },
    {
      "cell_type": "markdown",
      "metadata": {
        "id": "bn9iO9wNT2p7"
      },
      "source": [
        "## Define the Attention layer / Task 3"
      ]
    },
    {
      "cell_type": "code",
      "metadata": {
        "id": "JwUAUDL4KmoM"
      },
      "source": [
        "class seq2seqAtt(nn.Module):\n",
        "    '''\n",
        "    concat global attention a la Luong et al. 2015 (subsection 3.1)\n",
        "    https://arxiv.org/pdf/1508.04025.pdf\n",
        "    '''\n",
        "    def __init__(self, hidden_dim, hidden_dim_s, hidden_dim_t):\n",
        "        super(seq2seqAtt, self).__init__()\n",
        "        self.ff_concat = nn.Linear(hidden_dim_s+hidden_dim_t, hidden_dim)\n",
        "        self.ff_score = nn.Linear(hidden_dim, 1, bias=False) # just a dot product here\n",
        "    \n",
        "    def forward(self, target_h, source_hs):\n",
        "        target_h_rep = target_h.repeat(source_hs.size(0), 1, 1) # (1, batch, feat) -> (seq, batch, feat)\n",
        "        # fill the gaps #\n",
        "        # implement the score computation part of the concat formulation (see section 3.1. of Luong 2015)\n",
        "        concat_output = self.ff_concat(torch.cat([target_h_rep, source_hs], dim=-1))\n",
        "        scores = self.ff_score(concat_output) # should be of shape (seq, batch, 1)\n",
        "        scores = scores.squeeze(dim=2) # (seq, batch, 1) -> (seq, batch). dim = 2 because we don't want to squeeze the batch dim if batch size = 1\n",
        "        norm_scores = torch.softmax(scores, dim=0)\n",
        "        source_hs_p = source_hs.permute((2, 0, 1)) # (seq, batch, feat) -> (feat, seq, batch)\n",
        "        weighted_source_hs = (norm_scores * source_hs_p) # (seq, batch) * (feat, seq, batch) (* checks from right to left that the dimensions match)\n",
        "        ct = torch.sum(weighted_source_hs.permute((1, 2, 0)), 0, keepdim=True) # (feat, seq, batch) -> (seq, batch, feat) -> (1, batch, feat); keepdim otherwise sum squeezes \n",
        "        return ct, norm_scores"
      ],
      "execution_count": 67,
      "outputs": []
    },
    {
      "cell_type": "markdown",
      "metadata": {
        "id": "VUT6D3JETX8H"
      },
      "source": [
        "# Define the full seq2seq model / Task 4:"
      ]
    },
    {
      "cell_type": "code",
      "metadata": {
        "id": "FYX0K3dNK-c9"
      },
      "source": [
        "class seq2seqModel(nn.Module):\n",
        "    '''the full seq2seq model'''\n",
        "    ARGS = ['vocab_s','source_language','vocab_t_inv','embedding_dim_s','embedding_dim_t',\n",
        "     'hidden_dim_s','hidden_dim_t','hidden_dim_att','do_att','padding_token',\n",
        "     'oov_token','sos_token','eos_token','max_size']\n",
        "    def __init__(self, vocab_s, source_language, vocab_t_inv, embedding_dim_s, embedding_dim_t, \n",
        "                 hidden_dim_s, hidden_dim_t, hidden_dim_att, do_att, padding_token,\n",
        "                 oov_token, sos_token, eos_token, max_size):\n",
        "        super(seq2seqModel, self).__init__()\n",
        "        self.vocab_s = vocab_s\n",
        "        self.source_language = source_language\n",
        "        self.vocab_t_inv = vocab_t_inv\n",
        "        self.embedding_dim_s = embedding_dim_s\n",
        "        self.embedding_dim_t = embedding_dim_t\n",
        "        self.hidden_dim_s = hidden_dim_s\n",
        "        self.hidden_dim_t = hidden_dim_t\n",
        "        self.hidden_dim_att = hidden_dim_att\n",
        "        self.do_att = do_att # should attention be used?\n",
        "        self.padding_token = padding_token\n",
        "        self.oov_token = oov_token\n",
        "        self.sos_token = sos_token\n",
        "        self.eos_token = eos_token\n",
        "        self.max_size = max_size\n",
        "        \n",
        "        self.max_source_idx = max(list(vocab_s.values()))\n",
        "        print('max source index',self.max_source_idx)\n",
        "        print('source vocab size',len(vocab_s))\n",
        "        \n",
        "        self.max_target_idx = max([int(elt) for elt in list(vocab_t_inv.keys())])\n",
        "        print('max target index',self.max_target_idx)\n",
        "        print('target vocab size',len(vocab_t_inv))\n",
        "        self.device = torch.device('cuda' if torch.cuda.is_available() else 'cpu')\n",
        "        self.encoder = Encoder(self.max_source_idx+1, self.embedding_dim_s, self.hidden_dim_s, self.padding_token).to(self.device)\n",
        "        self.decoder = Decoder(self.max_target_idx+1, self.embedding_dim_t, self.hidden_dim_s, self.hidden_dim_t, self.padding_token).to(self.device)\n",
        "        \n",
        "        if self.do_att:\n",
        "            self.att_mech = seq2seqAtt(self.hidden_dim_att, self.hidden_dim_s, self.hidden_dim_t).to(self.device)\n",
        "    \n",
        "    def my_pad(self, my_list):\n",
        "        '''my_list is a list of tuples of the form [(tensor_s_1, tensor_t_1), ..., (tensor_s_batch, tensor_t_batch)]\n",
        "        the <eos> token is appended to each sequence before padding\n",
        "        https://pytorch.org/docs/stable/nn.html#torch.nn.utils.rnn.pad_sequence'''\n",
        "        batch_source = pad_sequence([torch.cat((elt[0], torch.LongTensor([self.eos_token]))) for elt in my_list], batch_first=True, padding_value=self.padding_token)\n",
        "        batch_target = pad_sequence([torch.cat((elt[1], torch.LongTensor([self.eos_token]))) for elt in my_list], batch_first=True, padding_value=self.padding_token)\n",
        "        return batch_source, batch_target\n",
        "    \n",
        "    def forward(self, input, max_size, is_prod):\n",
        "        if is_prod: \n",
        "            input = input.unsqueeze(1) # (seq) -> (seq, 1) 1D input <=> we receive just one sentence as input (predict/production mode)\n",
        "        current_batch_size = input.size(1)\n",
        "        # fill the gap #\n",
        "        # use the encoder\n",
        "        source_hs = self.encoder(input)\n",
        "        # = = = decoder part (one timestep at a time)  = = =\n",
        "        target_h = torch.zeros(size=(1, current_batch_size, self.hidden_dim_t)).to(self.device) # init (1, batch, feat)\n",
        "        \n",
        "        # fill the gap #\n",
        "        # (initialize target_input with the proper token)\n",
        "        target_input = torch.LongTensor([self.sos_token]).repeat(current_batch_size).unsqueeze(0).to(self.device) # init (1, batch)\n",
        "        pos = 0\n",
        "        eos_counter = 0\n",
        "        logits = []\n",
        "        alignements = []\n",
        "\n",
        "        while True:\n",
        "            if self.do_att:\n",
        "                source_context, norm_scores = self.att_mech(target_h, source_hs) # (1, batch, feat)\n",
        "            else:\n",
        "                source_context = source_hs[-1, :, :].unsqueeze(0) # (1, batch, feat) last hidden state of encoder\n",
        "            # fill the gap #\n",
        "            # use the decoder\n",
        "            prediction, target_h = self.decoder(target_input, source_context, target_h)\n",
        "            logits.append(prediction) # (1, batch, vocab)\n",
        "            if is_prod:\n",
        "              alignements.append(norm_scores.detach())\n",
        "            # fill the gap #\n",
        "            # get the next input to pass the decoder\n",
        "            target_input = prediction.argmax(-1)\n",
        "            eos_counter += torch.sum(target_input==self.eos_token).item()\n",
        "            pos += 1\n",
        "            if pos >= max_size or (eos_counter == current_batch_size and is_prod):\n",
        "                break\n",
        "        to_return = torch.cat(logits, 0) # logits is a list of tensors -> (seq, batch, vocab)\n",
        "        \n",
        "        if is_prod:\n",
        "            to_return = to_return.squeeze(dim=1), torch.cat(alignements, 1) # (seq, vocab)\n",
        "        \n",
        "        return to_return\n",
        "    \n",
        "    def fit(self, trainingDataset, testDataset, lr, batch_size, n_epochs, patience):\n",
        "        parameters = [p for p in self.parameters() if p.requires_grad]\n",
        "        optimizer = optim.Adam(parameters, lr=lr)\n",
        "        criterion = torch.nn.CrossEntropyLoss(ignore_index=self.padding_token) # the softmax is inside the loss!\n",
        "        # https://pytorch.org/docs/stable/data.html#torch.utils.data.DataLoader\n",
        "        # we pass a collate function to perform padding on the fly, within each batch\n",
        "        # this is better than truncation/padding at the dataset level\n",
        "        train_loader = data.DataLoader(trainingDataset, batch_size=batch_size, \n",
        "                                       shuffle=True, collate_fn=self.my_pad) # returns (batch, seq)\n",
        "        test_loader = data.DataLoader(testDataset, batch_size=512,\n",
        "                                      collate_fn=self.my_pad)\n",
        "        tdqm_dict_keys = ['loss', 'test loss']\n",
        "        tdqm_dict = dict(zip(tdqm_dict_keys, [0.0, 0.0]))\n",
        "        patience_counter = 1\n",
        "        patience_loss = 99999\n",
        "        \n",
        "        for epoch in range(n_epochs): \n",
        "            with tqdm(total=len(train_loader), unit_scale=True, postfix={'loss':0.0, 'test loss':0.0},\n",
        "                      desc=\"Epoch : %i/%i\" % (epoch, n_epochs-1), ncols=100) as pbar:\n",
        "                for loader_idx, loader in enumerate([train_loader, test_loader]):\n",
        "                    total_loss = 0\n",
        "                    # set model mode (https://stackoverflow.com/questions/51433378/what-does-model-train-do-in-pytorch)\n",
        "                    if loader_idx == 0:\n",
        "                        self.train()\n",
        "                    else:\n",
        "                        self.eval()\n",
        "                    for i, (batch_source, batch_target) in enumerate(loader):\n",
        "                        batch_source = batch_source.transpose(1, 0).to(self.device) # RNN needs (seq, batch, feat) but loader returns (batch, seq)                        \n",
        "                        batch_target = batch_target.transpose(1, 0).to(self.device) # (seq, batch)\n",
        "                        \n",
        "                        # are we using the model in production\n",
        "                        is_prod = len(batch_source.shape)==1 # if False, 2D input (seq, batch), i.e., train or test\n",
        "                        if is_prod:\n",
        "                            max_size = self.max_size\n",
        "                            self.eval()\n",
        "                        else:\n",
        "                            max_size = batch_target.size(0) # no need to continue generating after we've exceeded the length of the longest ground truth sequence\n",
        "                        \n",
        "                        unnormalized_logits = self.forward(batch_source, max_size, is_prod)\n",
        "                        sentence_loss = criterion(unnormalized_logits.flatten(end_dim=1), batch_target.flatten())\n",
        "                        total_loss += sentence_loss.item()                        \n",
        "                        tdqm_dict[tdqm_dict_keys[loader_idx]] = total_loss/(i+1)                       \n",
        "                        pbar.set_postfix(tdqm_dict)                     \n",
        "                        if loader_idx == 0:\n",
        "                            optimizer.zero_grad() # flush gradient attributes\n",
        "                            sentence_loss.backward() # compute gradients\n",
        "                            optimizer.step() # update\n",
        "                            pbar.update(1)\n",
        "            \n",
        "            if total_loss > patience_loss:\n",
        "                patience_counter += 1\n",
        "            else:\n",
        "                patience_loss = total_loss\n",
        "                patience_counter = 1 # reset\n",
        "            \n",
        "            if patience_counter > patience:\n",
        "                break\n",
        "    \n",
        "    def sourceNl_to_ints(self, source_nl):\n",
        "        '''converts natural language source sentence into source integers'''\n",
        "        source_nl_clean = source_nl.lower().replace(\"'\",' ').replace('-',' ')\n",
        "        source_nl_clean_tok = word_tokenize(source_nl_clean, self.source_language)\n",
        "        source_ints = [int(self.vocab_s[elt]) if elt in self.vocab_s else \\\n",
        "                       self.oov_token for elt in source_nl_clean_tok]\n",
        "        \n",
        "        source_ints = torch.LongTensor(source_ints).to(self.device)\n",
        "        return source_ints \n",
        "    \n",
        "    def targetInts_to_nl(self, target_ints):\n",
        "        '''converts integer target sentence into target natural language'''\n",
        "        return ['<PAD>' if elt==self.padding_token else '<OOV>' if elt==self.oov_token \\\n",
        "                else '<EOS>' if elt==self.eos_token else '<SOS>' if elt==self.sos_token\\\n",
        "                else self.vocab_t_inv[elt] for elt in target_ints]\n",
        "    \n",
        "    def predict(self, source_nl):\n",
        "        source_ints = self.sourceNl_to_ints(source_nl)\n",
        "        logits, alignements = self.forward(source_ints, self.max_size, True) # (seq) -> (<=max_size, vocab)\n",
        "        target_ints = logits.argmax(-1).squeeze() # (<=max_size, 1) -> (<=max_size)\n",
        "        target_nl = self.targetInts_to_nl(target_ints.tolist())\n",
        "        return ' '.join(target_nl), alignements\n",
        "        \n",
        "    def save(self, path_to_file):\n",
        "        attrs = {attr:getattr(self,attr) for attr in self.ARGS}\n",
        "        attrs['state_dict'] = self.state_dict()\n",
        "        torch.save(attrs, path_to_file)\n",
        "    \n",
        "    @classmethod # a class method does not see the inside of the class (a static method does not take self as first argument)\n",
        "    def load(cls, path_to_file):\n",
        "        attrs = torch.load(path_to_file, map_location=lambda storage, loc: storage) # allows loading on CPU a model trained on GPU, see https://discuss.pytorch.org/t/on-a-cpu-device-how-to-load-checkpoint-saved-on-gpu-device/349/6\n",
        "        state_dict = attrs.pop('state_dict')\n",
        "        new = cls(**attrs) # * list and ** names (dict) see args and kwargs\n",
        "        new.load_state_dict(state_dict)\n",
        "        return new        "
      ],
      "execution_count": 5,
      "outputs": []
    },
    {
      "cell_type": "markdown",
      "metadata": {
        "id": "PgkVw6lVUIT3"
      },
      "source": [
        "# Prepare the Data:"
      ]
    },
    {
      "cell_type": "code",
      "metadata": {
        "id": "datl5SFtJ9Br",
        "colab": {
          "base_uri": "https://localhost:8080/"
        },
        "outputId": "154f5302-2048-41db-e037-f6199bf69e54"
      },
      "source": [
        "!wget -c \"https://onedrive.live.com/download?cid=AE69638675180117&resid=AE69638675180117%2199291&authkey=AMIEuRcvDQWgoZo\" -O \"data.zip\"\n",
        "!wget -c \"https://onedrive.live.com/download?cid=AE69638675180117&resid=AE69638675180117%2199292&authkey=ANLtZTfpmk6tcE0\" -O \"pretrained_moodle.pt\"\n",
        "!unzip data.zip\n",
        "\n",
        "path_to_data = './'\n",
        "path_to_save_models = './'\n",
        "\n",
        "import sys\n",
        "import json\n",
        "\n",
        "import torch\n",
        "from torch.utils import data"
      ],
      "execution_count": 7,
      "outputs": [
        {
          "output_type": "stream",
          "name": "stdout",
          "text": [
            "--2021-11-23 00:54:02--  https://onedrive.live.com/download?cid=AE69638675180117&resid=AE69638675180117%2199291&authkey=AMIEuRcvDQWgoZo\n",
            "Resolving onedrive.live.com (onedrive.live.com)... 13.107.42.13\n",
            "Connecting to onedrive.live.com (onedrive.live.com)|13.107.42.13|:443... connected.\n",
            "HTTP request sent, awaiting response... 302 Found\n",
            "Location: https://vgtdqw.am.files.1drv.com/y4mXCcmKpexAE2Z8Bvyp8skpuN6w9b6R21dMmuMb4zS7bzGBn1N0kFbbHWXGBMcLujw5No7H9mtDl5TUNpfhwKeTyw11V54mOflrbaFaTYUOnaYreMTfOM7MAxCS7TPvqocLaNalWGp6bzxrm7eRfNKepQmqf9Uj1fjDS-UlVqJqd2mgveq-itkgqA_jWe_YSiaGQX92pwf3uLZlcuqOwKTSQ/data.zip?download&psid=1 [following]\n",
            "--2021-11-23 00:54:03--  https://vgtdqw.am.files.1drv.com/y4mXCcmKpexAE2Z8Bvyp8skpuN6w9b6R21dMmuMb4zS7bzGBn1N0kFbbHWXGBMcLujw5No7H9mtDl5TUNpfhwKeTyw11V54mOflrbaFaTYUOnaYreMTfOM7MAxCS7TPvqocLaNalWGp6bzxrm7eRfNKepQmqf9Uj1fjDS-UlVqJqd2mgveq-itkgqA_jWe_YSiaGQX92pwf3uLZlcuqOwKTSQ/data.zip?download&psid=1\n",
            "Resolving vgtdqw.am.files.1drv.com (vgtdqw.am.files.1drv.com)... 13.107.42.12\n",
            "Connecting to vgtdqw.am.files.1drv.com (vgtdqw.am.files.1drv.com)|13.107.42.12|:443... connected.\n",
            "HTTP request sent, awaiting response... 200 OK\n",
            "Length: 8994805 (8.6M) [application/zip]\n",
            "Saving to: ‘data.zip’\n",
            "\n",
            "data.zip            100%[===================>]   8.58M  --.-KB/s    in 0.06s   \n",
            "\n",
            "2021-11-23 00:54:04 (147 MB/s) - ‘data.zip’ saved [8994805/8994805]\n",
            "\n",
            "--2021-11-23 00:54:04--  https://onedrive.live.com/download?cid=AE69638675180117&resid=AE69638675180117%2199292&authkey=ANLtZTfpmk6tcE0\n",
            "Resolving onedrive.live.com (onedrive.live.com)... 13.107.42.13\n",
            "Connecting to onedrive.live.com (onedrive.live.com)|13.107.42.13|:443... connected.\n",
            "HTTP request sent, awaiting response... 302 Found\n",
            "Location: https://vgtcqw.am.files.1drv.com/y4meZwk_NsCt0g9rGkqn_tg6DdYF-amrk7ZnPDq3ngIJInuoKEZC8QMAjsI02XKH27SRCXowAsbsDZzKvE7mBRGuUBfa45QQZv2aIOu3_YaIPFjxatutCN9DcoHe6eLVG0Gfn6FoxSIWueGhliWZFmxemAEknZ7L1-SRtaK8smFnQI8Pc41veOFg0LmfEWdVDPLqiX9tTHK6xNCDr-xMIUNTA/pretrained_moodle.pt?download&psid=1 [following]\n",
            "--2021-11-23 00:54:05--  https://vgtcqw.am.files.1drv.com/y4meZwk_NsCt0g9rGkqn_tg6DdYF-amrk7ZnPDq3ngIJInuoKEZC8QMAjsI02XKH27SRCXowAsbsDZzKvE7mBRGuUBfa45QQZv2aIOu3_YaIPFjxatutCN9DcoHe6eLVG0Gfn6FoxSIWueGhliWZFmxemAEknZ7L1-SRtaK8smFnQI8Pc41veOFg0LmfEWdVDPLqiX9tTHK6xNCDr-xMIUNTA/pretrained_moodle.pt?download&psid=1\n",
            "Resolving vgtcqw.am.files.1drv.com (vgtcqw.am.files.1drv.com)... 13.107.42.12\n",
            "Connecting to vgtcqw.am.files.1drv.com (vgtcqw.am.files.1drv.com)|13.107.42.12|:443... connected.\n",
            "HTTP request sent, awaiting response... 200 OK\n",
            "Length: 3284775 (3.1M) [application/octet-stream]\n",
            "Saving to: ‘pretrained_moodle.pt’\n",
            "\n",
            "pretrained_moodle.p 100%[===================>]   3.13M  --.-KB/s    in 0.04s   \n",
            "\n",
            "2021-11-23 00:54:06 (77.9 MB/s) - ‘pretrained_moodle.pt’ saved [3284775/3284775]\n",
            "\n",
            "Archive:  data.zip\n",
            " extracting: pairs_test_ints.txt     \n",
            " extracting: pairs_train_ints.txt    \n",
            " extracting: README.txt              \n",
            " extracting: vocab_source.json       \n",
            " extracting: vocab_target.json       \n"
          ]
        }
      ]
    },
    {
      "cell_type": "code",
      "metadata": {
        "id": "wZCiFl61LPQj"
      },
      "source": [
        "class Dataset(data.Dataset):\n",
        "  def __init__(self, pairs):\n",
        "        self.pairs = pairs\n",
        "\n",
        "  def __len__(self):\n",
        "        return len(self.pairs) # total nb of observations\n",
        "\n",
        "  def __getitem__(self, idx):\n",
        "        source, target = self.pairs[idx] # one observation\n",
        "        return torch.LongTensor(source), torch.LongTensor(target)\n",
        "\n",
        "def load_pairs(train_or_test):\n",
        "    with open(path_to_data + 'pairs_' + train_or_test + '_ints.txt', 'r', encoding='utf-8') as file:\n",
        "        pairs_tmp = file.read().splitlines()\n",
        "    pairs_tmp = [elt.split('\\t') for elt in pairs_tmp]\n",
        "    pairs_tmp = [[[int(eltt) for eltt in elt[0].split()],[int(eltt) for eltt in \\\n",
        "                  elt[1].split()]] for elt in pairs_tmp]\n",
        "    return pairs_tmp"
      ],
      "execution_count": 8,
      "outputs": []
    },
    {
      "cell_type": "markdown",
      "metadata": {
        "id": "tCsAk4ILTkEc"
      },
      "source": [
        "# Training / Task 5:"
      ]
    },
    {
      "cell_type": "code",
      "metadata": {
        "id": "kSZ-cvSuLQVt",
        "colab": {
          "base_uri": "https://localhost:8080/"
        },
        "outputId": "752593fd-97d9-4a4b-8972-66dc482c295c"
      },
      "source": [
        "do_att = True # should always be set to True\n",
        "is_prod = False # production mode or not\n",
        "\n",
        "if not is_prod:\n",
        "        \n",
        "    pairs_train = load_pairs('train')\n",
        "    pairs_test = load_pairs('test')\n",
        "    \n",
        "    with open(path_to_data + 'vocab_source.json','r') as file:\n",
        "        vocab_source = json.load(file) # word -> index\n",
        "    \n",
        "    with open(path_to_data + 'vocab_target.json','r') as file:\n",
        "        vocab_target = json.load(file) # word -> index\n",
        "    \n",
        "    vocab_target_inv = {v:k for k,v in vocab_target.items()} # index -> word\n",
        "    \n",
        "    print('data loaded')\n",
        "        \n",
        "    training_set = Dataset(pairs_train)\n",
        "    test_set = Dataset(pairs_test)\n",
        "    \n",
        "    print('data prepared')\n",
        "    \n",
        "    print('= = = attention-based model?:',str(do_att),'= = =')\n",
        "    \n",
        "    model = seq2seqModel(vocab_s=vocab_source,\n",
        "                         source_language='english',\n",
        "                         vocab_t_inv=vocab_target_inv,\n",
        "                         embedding_dim_s=40,\n",
        "                         embedding_dim_t=41,\n",
        "                         hidden_dim_s=30,\n",
        "                         hidden_dim_t=31,\n",
        "                         hidden_dim_att=20,\n",
        "                         do_att=do_att,\n",
        "                         padding_token=0,\n",
        "                         oov_token=1,\n",
        "                         sos_token=2,\n",
        "                         eos_token=3,\n",
        "                         max_size=30) # max size of generated sentence in prediction mode\n",
        "    \n",
        "    model.fit(training_set,test_set,lr=0.001,batch_size=64,n_epochs=20,patience=2)\n",
        "    model.save(path_to_save_models + 'my_model.pt')"
      ],
      "execution_count": 68,
      "outputs": [
        {
          "output_type": "stream",
          "name": "stdout",
          "text": [
            "data loaded\n",
            "data prepared\n",
            "= = = attention-based model?: True = = =\n",
            "max source index 5281\n",
            "source vocab size 5278\n",
            "max target index 7459\n",
            "target vocab size 7456\n"
          ]
        },
        {
          "output_type": "stream",
          "name": "stderr",
          "text": [
            "Epoch : 0/19: 100%|██████████████████| 2.13k/2.13k [01:30<00:00, 23.7it/s, loss=5.16, test loss=4.6]\n",
            "Epoch : 1/19: 100%|█████████████████| 2.13k/2.13k [01:30<00:00, 23.6it/s, loss=4.34, test loss=4.09]\n",
            "Epoch : 2/19: 100%|█████████████████| 2.13k/2.13k [01:30<00:00, 23.6it/s, loss=3.91, test loss=3.77]\n",
            "Epoch : 3/19: 100%|█████████████████| 2.13k/2.13k [01:30<00:00, 23.5it/s, loss=3.65, test loss=3.56]\n",
            "Epoch : 4/19: 100%|█████████████████| 2.13k/2.13k [01:30<00:00, 23.6it/s, loss=3.46, test loss=3.43]\n",
            "Epoch : 5/19: 100%|█████████████████| 2.13k/2.13k [01:31<00:00, 23.4it/s, loss=3.32, test loss=3.31]\n",
            "Epoch : 6/19: 100%|█████████████████| 2.13k/2.13k [01:31<00:00, 23.4it/s, loss=3.21, test loss=3.22]\n",
            "Epoch : 7/19: 100%|█████████████████| 2.13k/2.13k [01:30<00:00, 23.7it/s, loss=3.12, test loss=3.15]\n",
            "Epoch : 8/19: 100%|█████████████████| 2.13k/2.13k [01:30<00:00, 23.5it/s, loss=3.04, test loss=3.08]\n",
            "Epoch : 9/19: 100%|█████████████████| 2.13k/2.13k [01:30<00:00, 23.6it/s, loss=2.97, test loss=3.03]\n",
            "Epoch : 10/19: 100%|███████████████████| 2.13k/2.13k [01:30<00:00, 23.5it/s, loss=2.91, test loss=3]\n",
            "Epoch : 11/19: 100%|████████████████| 2.13k/2.13k [01:30<00:00, 23.6it/s, loss=2.86, test loss=2.96]\n",
            "Epoch : 12/19: 100%|████████████████| 2.13k/2.13k [01:30<00:00, 23.5it/s, loss=2.82, test loss=2.93]\n",
            "Epoch : 13/19: 100%|████████████████| 2.13k/2.13k [01:26<00:00, 24.6it/s, loss=2.78, test loss=2.88]\n",
            "Epoch : 14/19: 100%|████████████████| 2.13k/2.13k [01:26<00:00, 24.6it/s, loss=2.74, test loss=2.87]\n",
            "Epoch : 15/19: 100%|████████████████| 2.13k/2.13k [01:27<00:00, 24.4it/s, loss=2.71, test loss=2.83]\n",
            "Epoch : 16/19: 100%|████████████████| 2.13k/2.13k [01:26<00:00, 24.8it/s, loss=2.68, test loss=2.81]\n",
            "Epoch : 17/19: 100%|████████████████| 2.13k/2.13k [01:26<00:00, 24.6it/s, loss=2.65, test loss=2.79]\n",
            "Epoch : 18/19: 100%|████████████████| 2.13k/2.13k [01:27<00:00, 24.5it/s, loss=2.63, test loss=2.82]\n",
            "Epoch : 19/19: 100%|█████████████████| 2.13k/2.13k [01:26<00:00, 24.7it/s, loss=2.6, test loss=2.75]\n"
          ]
        }
      ]
    },
    {
      "cell_type": "markdown",
      "metadata": {
        "id": "pf0rN4RPToom"
      },
      "source": [
        "# Testing / Task 6:"
      ]
    },
    {
      "cell_type": "code",
      "metadata": {
        "colab": {
          "base_uri": "https://localhost:8080/"
        },
        "id": "cMN8E8vZxexV",
        "outputId": "4fd3d233-2b16-4a4d-a76d-b8502c5a4daa"
      },
      "source": [
        "import nltk\n",
        "nltk.download('punkt')"
      ],
      "execution_count": 60,
      "outputs": [
        {
          "output_type": "stream",
          "name": "stdout",
          "text": [
            "[nltk_data] Downloading package punkt to /root/nltk_data...\n",
            "[nltk_data]   Package punkt is already up-to-date!\n"
          ]
        },
        {
          "output_type": "execute_result",
          "data": {
            "text/plain": [
              "True"
            ]
          },
          "metadata": {},
          "execution_count": 60
        }
      ]
    },
    {
      "cell_type": "code",
      "metadata": {
        "id": "VhXbQjP_YrgY",
        "colab": {
          "base_uri": "https://localhost:8080/"
        },
        "outputId": "af7cc867-3ece-40f2-80f2-c13242a9a30f"
      },
      "source": [
        "import matplotlib.pyplot as plt\n",
        "is_prod = True # production mode or not\n",
        "\n",
        "if is_prod:\n",
        "    model = seq2seqModel.load(path_to_save_models + 'my_model.pt')\n",
        "    # model = seq2seqModel.load(path_to_save_models + 'my_model.pt')\n",
        "    \n",
        "    to_test = ['I am a student.',\n",
        "               'I have a red car.',  # inversion captured\n",
        "               'I love playing video games.',\n",
        "                'This river is full of fish.', # plein vs pleine (accord)\n",
        "                'The fridge is full of food.',\n",
        "               'The cat fell asleep on the mat.',\n",
        "               'my brother likes pizza.', # pizza is translated to 'la pizza'\n",
        "               'I did not mean to hurt you.', # translation of mean in context\n",
        "               'She is so mean.',\n",
        "               'Help me pick out a tie to go with this suit!', # right translation\n",
        "               \"I can't help but smoking weed.\", # this one and below: hallucination\n",
        "               'The kids were playing hide and seek.',\n",
        "               'The cat fell asleep in front of the fireplace.']\n",
        "    \n",
        "    for elt in to_test:\n",
        "        translation, alignements = model.predict(elt)\n",
        "        print('= = = = = \\n','%s -> %s' % (elt, translation))"
      ],
      "execution_count": 69,
      "outputs": [
        {
          "output_type": "stream",
          "name": "stdout",
          "text": [
            "max source index 5281\n",
            "source vocab size 5278\n",
            "max target index 7459\n",
            "target vocab size 7456\n",
            "= = = = = \n",
            " I am a student. -> je suis étudiant étudiant . . . . . . . . . . étudiant . j j j j j j j j j j j j j j\n",
            "= = = = = \n",
            " I have a red car. -> j ai un rouge voiture . . . . . . . . . . . . . . malchanceux malchanceux j j j j j j j j j\n",
            "= = = = = \n",
            " I love playing video games. -> j adore jouer jouer jouer jouer jeux . . . . . . . . . . . . . jeux jeux vidéo vidéo vidéo vidéo vidéo vidéo vidéo vidéo\n",
            "= = = = = \n",
            " This river is full of fish. -> cette rivière est plein de poisson poisson . . . . . . . . poisson poisson poisson poisson poisson poisson poisson poisson poisson poisson poisson poisson poisson poisson poisson\n",
            "= = = = = \n",
            " The fridge is full of food. -> le frigo est plein de nourriture nourriture . . . . . . . . . . . . . . . . . . . . . . .\n",
            "= = = = = \n",
            " The cat fell asleep on the mat. -> le chat est <OOV> sur la tapis . . . . . . . . . . . . . . . . . . . . . . .\n",
            "= = = = = \n",
            " my brother likes pizza. -> mon frère aime aime la . . . . . . . . . . . . . . mon mon mon mon mon mon mon mon mon mon mon\n",
            "= = = = = \n",
            " I did not mean to hurt you. -> je n ai pas pas à me faire vous . . . . . . . . . . . . . . . . . . . . .\n",
            "= = = = = \n",
            " She is so mean. -> elle est tellement fatigué . . . . . . . . . . . . . mort mort erreur erreur erreur erreur erreur erreur erreur erreur erreur mariée mariée\n",
            "= = = = = \n",
            " Help me pick out a tie to go with this suit! -> aidez moi à un cravate cravate à à avec ceci . . . . . . . . . . . . . . . . . . . .\n",
            "= = = = = \n",
            " I can't help but smoking weed. -> je ne peux pas aider aider à fumer fumer . . . . . . . . . . . . . . . . . . . . .\n",
            "= = = = = \n",
            " The kids were playing hide and seek. -> les enfants étaient que de . . . . . . . . . . . . . . . . . . . enfants enfants enfants enfants enfants enfants\n",
            "= = = = = \n",
            " The cat fell asleep in front of the fireplace. -> le chat est <OOV> devant devant . . . . . . . . . . . . . . . . . . . . . . . .\n"
          ]
        }
      ]
    },
    {
      "cell_type": "code",
      "metadata": {
        "colab": {
          "base_uri": "https://localhost:8080/"
        },
        "id": "huleqmWAgqaS",
        "outputId": "112c2fd7-299d-443a-c5d0-bdf0e7c380f2"
      },
      "source": [
        "import matplotlib.pyplot as plt\n",
        "is_prod = True # production mode or not\n",
        "\n",
        "if is_prod:\n",
        "    #model = seq2seqModel.load(path_to_save_models + 'pretrained_moodle.pt')\n",
        "    model = seq2seqModel.load(path_to_save_models + 'my_model.pt')\n",
        "    \n",
        "    to_test = ['I am a student.',\n",
        "               'I have a red car.',  # inversion captured\n",
        "               'I love playing video games.',\n",
        "                'This river is full of fish.', # plein vs pleine (accord)\n",
        "                'The fridge is full of food.',\n",
        "               'The cat fell asleep on the mat.',\n",
        "               'my brother likes pizza.', # pizza is translated to 'la pizza'\n",
        "               'I did not mean to hurt you.', # translation of mean in context\n",
        "               'She is so mean.',\n",
        "               'Help me pick out a tie to go with this suit!', # right translation\n",
        "               \"I can't help but smoking weed.\", # this one and below: hallucination\n",
        "               'The kids were playing hide and seek.',\n",
        "               'The cat fell asleep in front of the fireplace.']\n",
        "    \n",
        "    for elt in to_test:\n",
        "        translation, alignements = model.predict(elt)\n",
        "        print('= = = = = \\n','%s -> %s' % (elt, translation))"
      ],
      "execution_count": 62,
      "outputs": [
        {
          "output_type": "stream",
          "name": "stdout",
          "text": [
            "max source index 5281\n",
            "source vocab size 5278\n",
            "max target index 7459\n",
            "target vocab size 7456\n",
            "= = = = = \n",
            " I am a student. -> je suis une . . <EOS>\n",
            "= = = = = \n",
            " I have a red car. -> j ai une voiture voiture . <EOS>\n",
            "= = = = = \n",
            " I love playing video games. -> j adore jouer jouer jouer jouer jouer . <EOS>\n",
            "= = = = = \n",
            " This river is full of fish. -> cette poisson est est la la pièce . . <EOS>\n",
            "= = = = = \n",
            " The fridge is full of food. -> la nourriture est est la . . <EOS>\n",
            "= = = = = \n",
            " The cat fell asleep on the mat. -> le chat <OOV> <OOV> la la la . . <EOS>\n",
            "= = = = = \n",
            " my brother likes pizza. -> ma sœur aime mon . . <EOS>\n",
            "= = = = = \n",
            " I did not mean to hurt you. -> je n ai pas vraiment que que que vous vraiment . . <EOS>\n",
            "= = = = = \n",
            " She is so mean. -> elle est être . . <EOS>\n",
            "= = = = = \n",
            " Help me pick out a tie to go with this suit! -> laisse moi demander à à à à à à à . <EOS>\n",
            "= = = = = \n",
            " I can't help but smoking weed. -> je ne peux pas pas de de aider de aider . . <EOS>\n",
            "= = = = = \n",
            " The kids were playing hide and seek. -> les les sont sont les et <OOV> . . . <EOS>\n",
            "= = = = = \n",
            " The cat fell asleep in front of the fireplace. -> le chat est <OOV> la la la la . . <EOS>\n"
          ]
        }
      ]
    },
    {
      "cell_type": "markdown",
      "metadata": {
        "id": "IUmsI29nfkFZ"
      },
      "source": [
        "# Code for question 3"
      ]
    },
    {
      "cell_type": "code",
      "metadata": {
        "id": "0MUXVHolcRg5"
      },
      "source": [
        "import numpy as np \n",
        "\n",
        "def plot_alignement_vector(vector, input, output,\n",
        "                          normalize=False,\n",
        "                          cmap='Greys_r'):\n",
        "\n",
        "    if normalize:\n",
        "        vector = vector.astype('float') / vector.sum(axis=1)[:, np.newaxis]\n",
        "\n",
        "    input_list = input.split(\" \")\n",
        "    output_list = output.split(\" \")\n",
        "    same = 0 \n",
        "    previous = output_list[0]\n",
        "    i = 1\n",
        "    while same < 5 or i < len(output_list):\n",
        "        if output_list[i]==previous:\n",
        "            same += 1\n",
        "        else :\n",
        "            previous = output_list[i]\n",
        "            same = 0\n",
        "        i += 1\n",
        "    output_list = output_list[:i-same]\n",
        "    vector = vector[:,:i-same]\n",
        "    \n",
        "    plt.figure(figsize=(10,10))\n",
        "    plt.imshow(vector, cmap=cmap)\n",
        "    plt.title(\"Source/Target Alignments\")\n",
        "    plt.colorbar()\n",
        "    tick_marks_y = np.arange(len(input_list))\n",
        "    tick_marks_x = np.arange(len(output_list))\n",
        "    plt.xticks(tick_marks_x, output_list)\n",
        "    plt.yticks(tick_marks_y, input_list)\n",
        "\n",
        "    plt.ylabel('English sentence')\n",
        "    plt.xlabel('French translation')\n",
        "    plt.show()\n",
        "    plt.tight_layout()\n",
        "    "
      ],
      "execution_count": 52,
      "outputs": []
    },
    {
      "cell_type": "code",
      "metadata": {
        "id": "HdlA3AwEbrZt",
        "colab": {
          "base_uri": "https://localhost:8080/",
          "height": 668
        },
        "outputId": "4405abb5-b3d1-47b2-f7d1-a04798d891b9"
      },
      "source": [
        "is_prod = True # production mode or not\n",
        "\n",
        "if is_prod:\n",
        "    model = seq2seqModel.load(path_to_save_models + 'pretrained_moodle.pt')\n",
        "    \n",
        "    to_test = ['I am a student.',\n",
        "               'I have a red car.',  # inversion captured\n",
        "               'I love playing video games.',\n",
        "                'This river is full of fish.', # plein vs pleine (accord)\n",
        "                'The fridge is full of food.',\n",
        "               'The cat fell asleep on the mat.',\n",
        "               'my brother likes pizza.', # pizza is translated to 'la pizza'\n",
        "               'I did not mean to hurt you', # translation of mean in context\n",
        "               'She is so mean',\n",
        "               'Help me pick out a tie to go with this suit!', # right translation\n",
        "               \"I can't help but smoking weed\", # this one and below: hallucination\n",
        "               'The kids were playing hide and seek',\n",
        "               'The cat fell asleep in front of the fireplace']\n",
        "\n",
        "    elt = to_test[1]\n",
        "    output, alignement = model.predict(elt)\n",
        "    plot_alignement_vector(alignement.cpu().numpy(), elt, output)"
      ],
      "execution_count": 55,
      "outputs": [
        {
          "output_type": "stream",
          "name": "stdout",
          "text": [
            "max source index 5281\n",
            "source vocab size 5278\n",
            "max target index 7459\n",
            "target vocab size 7456\n"
          ]
        },
        {
          "output_type": "display_data",
          "data": {
            "image/png": "[encoded data removed]",
            "text/plain": [
              "<Figure size 720x720 with 2 Axes>"
            ]
          },
          "metadata": {
            "needs_background": "light"
          }
        },
        {
          "output_type": "display_data",
          "data": {
            "text/plain": [
              "<Figure size 432x288 with 0 Axes>"
            ]
          },
          "metadata": {}
        }
      ]
    },
    {
      "cell_type": "code",
      "metadata": {
        "id": "3iN72DVlfnTZ"
      },
      "source": [
        ""
      ],
      "execution_count": null,
      "outputs": []
    }
  ]
}